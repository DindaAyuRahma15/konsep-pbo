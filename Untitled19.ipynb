{
  "nbformat": 4,
  "nbformat_minor": 0,
  "metadata": {
    "colab": {
      "provenance": [],
      "authorship_tag": "ABX9TyPMop09mjOq4D8Zul3yUliO",
      "include_colab_link": true
    },
    "kernelspec": {
      "name": "python3",
      "display_name": "Python 3"
    },
    "language_info": {
      "name": "python"
    }
  },
  "cells": [
    {
      "cell_type": "markdown",
      "metadata": {
        "id": "view-in-github",
        "colab_type": "text"
      },
      "source": [
        "<a href=\"https://colab.research.google.com/github/DindaAyuRahma15/konsep-pbo/blob/main/Untitled19.ipynb\" target=\"_parent\"><img src=\"https://colab.research.google.com/assets/colab-badge.svg\" alt=\"Open In Colab\"/></a>"
      ]
    },
    {
      "cell_type": "code",
      "execution_count": 1,
      "metadata": {
        "colab": {
          "base_uri": "https://localhost:8080/"
        },
        "id": "liMsGl9kGuYa",
        "outputId": "168773ce-cac0-4150-dcae-fd7c18b06161"
      },
      "outputs": [
        {
          "output_type": "stream",
          "name": "stdout",
          "text": [
            "Nama: Dinda\n",
            "Umur: 16\n",
            "Kelas: XI RPL 1\n",
            "\n",
            "Nama: Heru\n",
            "Umur: 38\n",
            "Mata pelajaran: Ppkn\n"
          ]
        }
      ],
      "source": [
        "#Class User\n",
        "class User:\n",
        "    def __init__(self, nama, umur):\n",
        "        self.nama = nama\n",
        "        self.umur = umur\n",
        "\n",
        "    def tampil_info(self):\n",
        "        print(f\"Nama: {self.nama}\")\n",
        "        print(f\"Umur: {self.umur}\")\n",
        "\n",
        "\n",
        "#Class Siswa\n",
        "class Siswa(User):\n",
        "    def __init__(self, nama, umur, kelas):\n",
        "        super().__init__(nama, umur)\n",
        "        self.kelas = kelas\n",
        "\n",
        "    def tampil_info(self):\n",
        "        super().tampil_info()\n",
        "        print(f\"Kelas: {self.kelas}\")\n",
        "\n",
        "\n",
        "#Class Guru\n",
        "class Guru(User):\n",
        "    def __init__(self, nama, umur, mapel):\n",
        "        super().__init__(nama, umur)\n",
        "        self.mapel = mapel\n",
        "\n",
        "    def tampil_info(self):\n",
        "        super().tampil_info()\n",
        "        print(f\"Mata pelajaran: {self.mapel}\")\n",
        "\n",
        "\n",
        "#Program utama untuk menampilkan info\n",
        "siswa = Siswa(\"Dinda\", 16, \"XI RPL 1\")\n",
        "guru = Guru(\"Heru\", 38, \"Ppkn\")\n",
        "\n",
        "siswa.tampil_info()\n",
        "print()\n",
        "guru.tampil_info()"
      ]
    }
  ]
}